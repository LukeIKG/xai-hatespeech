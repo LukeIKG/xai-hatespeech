{
 "cells": [
  {
   "cell_type": "code",
   "execution_count": 1,
   "metadata": {},
   "outputs": [
    {
     "name": "stdout",
     "output_type": "stream",
     "text": [
      "                                             Content Label  \\\n",
      "0  denial of normal the con be asked to comment o...     1   \n",
      "1  just by being able to tweet this insufferable ...     1   \n",
      "2  that is retarded you too cute to be single tha...     1   \n",
      "3  thought of a real badass mongol style declarat...     1   \n",
      "4                                afro american basho     1   \n",
      "\n",
      "                                         Content_int  \n",
      "0  [146715, 0, 1, 2, 3, 4, 5, 6, 7, 8, 9, 10, 11,...  \n",
      "1  [146715, 14, 15, 16, 17, 7, 18, 19, 20, 21, 22...  \n",
      "2  [146715, 28, 29, 30, 26, 31, 32, 7, 5, 33, 28,...  \n",
      "3  [146715, 35, 1, 24, 36, 37, 38, 39, 40, 1, 41,...  \n",
      "4                       [146715, 46, 47, 48, 146714]  \n"
     ]
    }
   ],
   "source": [
    "# Daten einlesen\n",
    "import pandas as pd\n",
    "\n",
    "df = pd.read_csv('HateSpeechDataset.csv')\n",
    "\n",
    "# erste Zeilen\n",
    "print(df.head())\n",
    "\n",
    "# Spalten\n",
    "print(df.columns)\n",
    "\n",
    "\n",
    "\n",
    "\n",
    "\n",
    "\n"
   ]
  },
  {
   "cell_type": "code",
   "execution_count": null,
   "metadata": {},
   "outputs": [],
   "source": []
  }
 ],
 "metadata": {
  "kernelspec": {
   "display_name": "Python 3",
   "language": "python",
   "name": "python3"
  },
  "language_info": {
   "name": "python",
   "version": "3.9.18"
  }
 },
 "nbformat": 4,
 "nbformat_minor": 2
}
